{
 "cells": [
  {
   "cell_type": "code",
   "execution_count": 28,
   "metadata": {},
   "outputs": [],
   "source": [
    "import kml2geojson\n",
    "import os\n",
    "import json\n",
    "from collections import defaultdict"
   ]
  },
  {
   "cell_type": "markdown",
   "metadata": {},
   "source": [
    "## Load and convert data"
   ]
  },
  {
   "cell_type": "code",
   "execution_count": 33,
   "metadata": {},
   "outputs": [],
   "source": [
    "kml2geojson.main.convert(\"./data/kml/flaakoia.kml\", \"./data/raw_json/flaakoia\")"
   ]
  },
  {
   "cell_type": "code",
   "execution_count": 34,
   "metadata": {},
   "outputs": [],
   "source": [
    "for file in os.listdir(\"./data/kml/\"):\n",
    "    fname = file.split(\".\")[0]\n",
    "    kml2geojson.main.convert(\"./data/kml/\"+file, \"./data/raw_json/\"+fname)"
   ]
  },
  {
   "cell_type": "code",
   "execution_count": 8,
   "metadata": {},
   "outputs": [],
   "source": [
    "paths = []\n",
    "for file in os.listdir(\"./data/raw_json/\"):\n",
    "    kname = file.split(\".\")[0]\n",
    "    filepath = \"./data/raw_json/\" + file + \"/\" + kname + \".geojson\"\n",
    "    paths.append(filepath)"
   ]
  },
  {
   "cell_type": "markdown",
   "metadata": {},
   "source": [
    "## Fix icon resources"
   ]
  },
  {
   "cell_type": "code",
   "execution_count": 68,
   "metadata": {},
   "outputs": [],
   "source": [
    "mappings = defaultdict(set)"
   ]
  },
  {
   "cell_type": "code",
   "execution_count": 69,
   "metadata": {},
   "outputs": [],
   "source": [
    "\n",
    "for path in paths:\n",
    "    for feature in json.load(open(path))[\"features\"]:\n",
    "        mappings[feature[\"properties\"][\"name\"]].add(feature[\"properties\"][\"styleUrl\"])\n",
    "    "
   ]
  },
  {
   "cell_type": "code",
   "execution_count": 76,
   "metadata": {},
   "outputs": [
    {
     "data": {
      "text/plain": [
       "dict_keys(['Hognabu', 'Parking summer/winter', 'Bus stop', 'Track', 'Taagaabu', 'End of bike trail', 'Flåkoia', 'Mevasskoia', 'Fosenkoia', 'Heinfjordstua', 'Holmsåkoia', 'Holvassgamma', 'Iglbu', 'Kamtjønnkoia', 'Kråklikåten', 'Kåsen', 'Lynhøgen', 'Mortenskåten', 'Nicokoia', 'Rindalsløa', 'Selbukåten', 'Sonvasskoia', 'Stabburet', 'Stakkslettbua', 'Telin', 'Vekvessætra', 'Øvensenget', 'Lyngli', 'Parking summer', 'Parking winter', 'Øvensenget - Bråkåten', 'Kråklikåten - Mortenskåten', 'Hognabu - Stabburet', 'Selbukåten - Heinfjordstua', 'Holmsåkoia - Stabburet', 'Nicokoia - Kråklikåten', 'Kråklikåten - Lynhøgen', 'Kamtjønn - Telin', 'Taagaabu - Kvernmovollen', 'Sonvasskoia - Selbukåten', 'Stabburet - Sonvasskoia', 'Rindalsløa - Kamtjønnkoia', 'Nicokoia - Tangvollelva', 'Hognabu - Sonvasskoia', 'Vekvessætra - Telin', 'Boat stop', 'Waste container', 'Wood pile', 'Kvernmovollen', 'Train stop', 'Parking summer/late winter', 'Parking early winter', 'Bråkåten', 'Starten på LYNGLI TOG 20:19:57', 'Tog / Train', 'LYNGLI TOG 20:19:57', 'Buss', 'Parking Summer / Winter', 'Move', 'Parking'])"
      ]
     },
     "execution_count": 76,
     "metadata": {},
     "output_type": "execute_result"
    }
   ],
   "source": [
    "mappings.keys()"
   ]
  },
  {
   "cell_type": "code",
   "execution_count": 78,
   "metadata": {},
   "outputs": [],
   "source": [
    "new_mappings = {\n",
    "    'Hognabu': '#koie',\n",
    "    'Parking summer/winter': '#parking_summer_winter',\n",
    "    'Bus stop': '#bus',\n",
    "    'Track': '#track',\n",
    "    'Taagaabu': '#koie',\n",
    "    'End of bike trail': '#bike',\n",
    "    'Flåkoia': '#koie',\n",
    "    'Mevasskoia': '#koie',\n",
    "    'Fosenkoia': '#koie',\n",
    "    'Heinfjordstua': '#koie',\n",
    "    'Holmsåkoia': '#koie',\n",
    "    'Holvassgamma': '#koie',\n",
    "    'Iglbu': '#koie',\n",
    "    'Kamtjønnkoia': '#koie',\n",
    "    'Kråklikåten': '#koie',\n",
    "    'Kåsen': '#koie',\n",
    "    'Lynhøgen': '#koie',\n",
    "    'Mortenskåten': '#koie',\n",
    "    'Nicokoia': '#koie',\n",
    "    'Rindalsløa': '#koie',\n",
    "    'Selbukåten': '#koie',\n",
    "    'Sonvasskoia': '#koie',\n",
    "    'Stabburet': '#koie',\n",
    "    'Stakkslettbua': '#koie',\n",
    "    'Telin': '#koie',\n",
    "    'Vekvessætra': '#koie',\n",
    "    'Øvensenget': '#koie',\n",
    "    'Lyngli': '#koie',\n",
    "    'Parking summer': '#parking_summer',\n",
    "    'Parking winter': '#parking_winter',\n",
    "    'Øvensenget - Bråkåten': '#track',\n",
    "    'Kråklikåten - Mortenskåten': '#track',\n",
    "    'Hognabu - Stabburet': '#track',\n",
    "    'Selbukåten - Heinfjordstua': '#track',\n",
    "    'Holmsåkoia - Stabburet': '#track',\n",
    "    'Nicokoia - Kråklikåten': '#track',\n",
    "    'Kråklikåten - Lynhøgen': '#track',\n",
    "    'Kamtjønn - Telin': '#track',\n",
    "    'Taagaabu - Kvernmovollen': '#track',\n",
    "    'Sonvasskoia - Selbukåten': '#track',\n",
    "    'Stabburet - Sonvasskoia': '#track',\n",
    "    'Rindalsløa - Kamtjønnkoia': '#track',\n",
    "    'Nicokoia - Tangvollelva': '#track',\n",
    "    'Hognabu - Sonvasskoia': '#track',\n",
    "    'Vekvessætra - Telin': '#track',\n",
    "    'Boat stop': '#ferry',\n",
    "    'Waste container': '#waste',\n",
    "    'Wood pile': '#wood',\n",
    "    'Kvernmovollen': '#koie',\n",
    "    'Train stop': '#train',\n",
    "    'Parking summer/late winter': '#parking_summer_winter',\n",
    "    'Parking early winter': '#parking_winter',\n",
    "    'Bråkåten': '#koie',\n",
    "    'Starten på LYNGLI TOG 20:19:57': '#track',\n",
    "    'Tog / Train': '#train',\n",
    "    'LYNGLI TOG 20:19:57': '#track',\n",
    "    'Buss': '#bus',\n",
    "    'Parking Summer / Winter': '#parking_summer_winter',\n",
    "    'Move': '#track',\n",
    "    'Parking': '#parking',\n",
    "}"
   ]
  },
  {
   "cell_type": "code",
   "execution_count": 87,
   "metadata": {},
   "outputs": [],
   "source": [
    "\n",
    "for path in paths:\n",
    "    json_data = json.load(open(path))\n",
    "    for feature in json_data[\"features\"]:\n",
    "        feature[\"properties\"][\"styleUrl\"] = new_mappings[feature[\"properties\"][\"name\"]]\n",
    "    new_path = \"./data/json/\" + path.split(\"/\")[-1]\n",
    "    json.dump(json_data, open(new_path, \"w\"), indent=2, sort_keys=True)"
   ]
  }
 ],
 "metadata": {
  "kernelspec": {
   "display_name": "Python 3",
   "language": "python",
   "name": "python3"
  },
  "language_info": {
   "codemirror_mode": {
    "name": "ipython",
    "version": 3
   },
   "file_extension": ".py",
   "mimetype": "text/x-python",
   "name": "python",
   "nbconvert_exporter": "python",
   "pygments_lexer": "ipython3",
   "version": "3.6.5"
  }
 },
 "nbformat": 4,
 "nbformat_minor": 2
}
